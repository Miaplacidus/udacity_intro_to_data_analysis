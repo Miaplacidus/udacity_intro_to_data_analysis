{
 "cells": [
  {
   "cell_type": "markdown",
   "metadata": {},
   "source": [
    "# Analysis of Passenger Data for the RMS Titanic"
   ]
  },
  {
   "cell_type": "markdown",
   "metadata": {},
   "source": [
    "For the final project of the Intro to Data Analysis course, I have analyzed data on the passengers of the RMS Titanic, a British passenger liner that sank in the North Atlantic in April of 1912. The data used in this analysis was obtained from (Kaggle)[https://www.kaggle.com/c/titanic/data]."
   ]
  },
  {
   "cell_type": "markdown",
   "metadata": {},
   "source": [
    "## Overview of the Data"
   ]
  },
  {
   "cell_type": "markdown",
   "metadata": {},
   "source": [
    "titanic_data.csv: \n",
    "The Titanic had approximately 2,224 people on board, of whom about 1500 died. This CSV describes 891 of those passengers. \n",
    "\n",
    "Columns: \n",
    "* PassengerId: passenger id \n",
    "* Survived: indicates if passenger survived; 0 = No, 1 = Yes\n",
    "* Pclass: ticket class; 1 = 1st class, 2 = 2nd class, 3 = 3rd class\n",
    "* Name: name\n",
    "* Sex: sex\n",
    "* Age: age\n",
    "* SibSp: number of siblings or spouses aboard the ship\n",
    "* Parch: number of parents or children aboard the ship\n",
    "* Ticket: ticket number\n",
    "* Fare: fare in pound sterling\n",
    "* Cabin: cabin number \n",
    "* Embarked: port of embarkation; C = Cherbourg, Q = Queenstown, S = Southampton\n",
    "\n",
    "\n",
    "One assumption being made is that the data set is a representative sample of the passenger population overall. "
   ]
  },
  {
   "cell_type": "markdown",
   "metadata": {},
   "source": [
    "## Questions"
   ]
  },
  {
   "cell_type": "markdown",
   "metadata": {},
   "source": [
    "I'm interested in discovering the profile of passengers in general and survivors in particular. To that end, most of my analysis is aimed towards answering the following questions:\n",
    "\n",
    "Most of my questions are geared towards \n",
    "\n",
    "* Did a passenger's odds of survival depend on gender? \n",
    "* Did the socioeconomic class to which a passenger belonged correlate with survival?\n",
    "* Is there any correlation between a passenger's age and survival?\n",
    "* Did traveling with others improve your chances of survival?\n",
    "* Did survival rates differ based on the port at which passenger's boarded?"
   ]
  },
  {
   "cell_type": "markdown",
   "metadata": {},
   "source": [
    "## Load Data"
   ]
  },
  {
   "cell_type": "code",
   "execution_count": 41,
   "metadata": {
    "collapsed": true
   },
   "outputs": [],
   "source": [
    "import pandas as pd\n",
    "%matplotlib inline\n",
    "import matplotlib.pyplot as plt\n",
    "import ipywidgets\n",
    "import seaborn as sns\n",
    "import unicodecsv \n",
    "from collections import defaultdict\n",
    "from __future__ import division\n",
    "\n",
    "passengers = pd.read_csv('titanic_data.csv')"
   ]
  },
  {
   "cell_type": "markdown",
   "metadata": {},
   "source": [
    "## Preliminary Analysis of the Data"
   ]
  },
  {
   "cell_type": "code",
   "execution_count": 42,
   "metadata": {},
   "outputs": [
    {
     "data": {
      "text/html": [
       "<div>\n",
       "<table border=\"1\" class=\"dataframe\">\n",
       "  <thead>\n",
       "    <tr style=\"text-align: right;\">\n",
       "      <th></th>\n",
       "      <th>PassengerId</th>\n",
       "      <th>Survived</th>\n",
       "      <th>Pclass</th>\n",
       "      <th>Name</th>\n",
       "      <th>Sex</th>\n",
       "      <th>Age</th>\n",
       "      <th>SibSp</th>\n",
       "      <th>Parch</th>\n",
       "      <th>Ticket</th>\n",
       "      <th>Fare</th>\n",
       "      <th>Cabin</th>\n",
       "      <th>Embarked</th>\n",
       "    </tr>\n",
       "  </thead>\n",
       "  <tbody>\n",
       "    <tr>\n",
       "      <th>0</th>\n",
       "      <td>1</td>\n",
       "      <td>0</td>\n",
       "      <td>3</td>\n",
       "      <td>Braund, Mr. Owen Harris</td>\n",
       "      <td>male</td>\n",
       "      <td>22.0</td>\n",
       "      <td>1</td>\n",
       "      <td>0</td>\n",
       "      <td>A/5 21171</td>\n",
       "      <td>7.2500</td>\n",
       "      <td>NaN</td>\n",
       "      <td>S</td>\n",
       "    </tr>\n",
       "    <tr>\n",
       "      <th>1</th>\n",
       "      <td>2</td>\n",
       "      <td>1</td>\n",
       "      <td>1</td>\n",
       "      <td>Cumings, Mrs. John Bradley (Florence Briggs Th...</td>\n",
       "      <td>female</td>\n",
       "      <td>38.0</td>\n",
       "      <td>1</td>\n",
       "      <td>0</td>\n",
       "      <td>PC 17599</td>\n",
       "      <td>71.2833</td>\n",
       "      <td>C85</td>\n",
       "      <td>C</td>\n",
       "    </tr>\n",
       "    <tr>\n",
       "      <th>2</th>\n",
       "      <td>3</td>\n",
       "      <td>1</td>\n",
       "      <td>3</td>\n",
       "      <td>Heikkinen, Miss. Laina</td>\n",
       "      <td>female</td>\n",
       "      <td>26.0</td>\n",
       "      <td>0</td>\n",
       "      <td>0</td>\n",
       "      <td>STON/O2. 3101282</td>\n",
       "      <td>7.9250</td>\n",
       "      <td>NaN</td>\n",
       "      <td>S</td>\n",
       "    </tr>\n",
       "    <tr>\n",
       "      <th>3</th>\n",
       "      <td>4</td>\n",
       "      <td>1</td>\n",
       "      <td>1</td>\n",
       "      <td>Futrelle, Mrs. Jacques Heath (Lily May Peel)</td>\n",
       "      <td>female</td>\n",
       "      <td>35.0</td>\n",
       "      <td>1</td>\n",
       "      <td>0</td>\n",
       "      <td>113803</td>\n",
       "      <td>53.1000</td>\n",
       "      <td>C123</td>\n",
       "      <td>S</td>\n",
       "    </tr>\n",
       "    <tr>\n",
       "      <th>4</th>\n",
       "      <td>5</td>\n",
       "      <td>0</td>\n",
       "      <td>3</td>\n",
       "      <td>Allen, Mr. William Henry</td>\n",
       "      <td>male</td>\n",
       "      <td>35.0</td>\n",
       "      <td>0</td>\n",
       "      <td>0</td>\n",
       "      <td>373450</td>\n",
       "      <td>8.0500</td>\n",
       "      <td>NaN</td>\n",
       "      <td>S</td>\n",
       "    </tr>\n",
       "    <tr>\n",
       "      <th>5</th>\n",
       "      <td>6</td>\n",
       "      <td>0</td>\n",
       "      <td>3</td>\n",
       "      <td>Moran, Mr. James</td>\n",
       "      <td>male</td>\n",
       "      <td>NaN</td>\n",
       "      <td>0</td>\n",
       "      <td>0</td>\n",
       "      <td>330877</td>\n",
       "      <td>8.4583</td>\n",
       "      <td>NaN</td>\n",
       "      <td>Q</td>\n",
       "    </tr>\n",
       "    <tr>\n",
       "      <th>6</th>\n",
       "      <td>7</td>\n",
       "      <td>0</td>\n",
       "      <td>1</td>\n",
       "      <td>McCarthy, Mr. Timothy J</td>\n",
       "      <td>male</td>\n",
       "      <td>54.0</td>\n",
       "      <td>0</td>\n",
       "      <td>0</td>\n",
       "      <td>17463</td>\n",
       "      <td>51.8625</td>\n",
       "      <td>E46</td>\n",
       "      <td>S</td>\n",
       "    </tr>\n",
       "    <tr>\n",
       "      <th>7</th>\n",
       "      <td>8</td>\n",
       "      <td>0</td>\n",
       "      <td>3</td>\n",
       "      <td>Palsson, Master. Gosta Leonard</td>\n",
       "      <td>male</td>\n",
       "      <td>2.0</td>\n",
       "      <td>3</td>\n",
       "      <td>1</td>\n",
       "      <td>349909</td>\n",
       "      <td>21.0750</td>\n",
       "      <td>NaN</td>\n",
       "      <td>S</td>\n",
       "    </tr>\n",
       "    <tr>\n",
       "      <th>8</th>\n",
       "      <td>9</td>\n",
       "      <td>1</td>\n",
       "      <td>3</td>\n",
       "      <td>Johnson, Mrs. Oscar W (Elisabeth Vilhelmina Berg)</td>\n",
       "      <td>female</td>\n",
       "      <td>27.0</td>\n",
       "      <td>0</td>\n",
       "      <td>2</td>\n",
       "      <td>347742</td>\n",
       "      <td>11.1333</td>\n",
       "      <td>NaN</td>\n",
       "      <td>S</td>\n",
       "    </tr>\n",
       "    <tr>\n",
       "      <th>9</th>\n",
       "      <td>10</td>\n",
       "      <td>1</td>\n",
       "      <td>2</td>\n",
       "      <td>Nasser, Mrs. Nicholas (Adele Achem)</td>\n",
       "      <td>female</td>\n",
       "      <td>14.0</td>\n",
       "      <td>1</td>\n",
       "      <td>0</td>\n",
       "      <td>237736</td>\n",
       "      <td>30.0708</td>\n",
       "      <td>NaN</td>\n",
       "      <td>C</td>\n",
       "    </tr>\n",
       "  </tbody>\n",
       "</table>\n",
       "</div>"
      ],
      "text/plain": [
       "   PassengerId  Survived  Pclass  \\\n",
       "0            1         0       3   \n",
       "1            2         1       1   \n",
       "2            3         1       3   \n",
       "3            4         1       1   \n",
       "4            5         0       3   \n",
       "5            6         0       3   \n",
       "6            7         0       1   \n",
       "7            8         0       3   \n",
       "8            9         1       3   \n",
       "9           10         1       2   \n",
       "\n",
       "                                                Name     Sex   Age  SibSp  \\\n",
       "0                            Braund, Mr. Owen Harris    male  22.0      1   \n",
       "1  Cumings, Mrs. John Bradley (Florence Briggs Th...  female  38.0      1   \n",
       "2                             Heikkinen, Miss. Laina  female  26.0      0   \n",
       "3       Futrelle, Mrs. Jacques Heath (Lily May Peel)  female  35.0      1   \n",
       "4                           Allen, Mr. William Henry    male  35.0      0   \n",
       "5                                   Moran, Mr. James    male   NaN      0   \n",
       "6                            McCarthy, Mr. Timothy J    male  54.0      0   \n",
       "7                     Palsson, Master. Gosta Leonard    male   2.0      3   \n",
       "8  Johnson, Mrs. Oscar W (Elisabeth Vilhelmina Berg)  female  27.0      0   \n",
       "9                Nasser, Mrs. Nicholas (Adele Achem)  female  14.0      1   \n",
       "\n",
       "   Parch            Ticket     Fare Cabin Embarked  \n",
       "0      0         A/5 21171   7.2500   NaN        S  \n",
       "1      0          PC 17599  71.2833   C85        C  \n",
       "2      0  STON/O2. 3101282   7.9250   NaN        S  \n",
       "3      0            113803  53.1000  C123        S  \n",
       "4      0            373450   8.0500   NaN        S  \n",
       "5      0            330877   8.4583   NaN        Q  \n",
       "6      0             17463  51.8625   E46        S  \n",
       "7      1            349909  21.0750   NaN        S  \n",
       "8      2            347742  11.1333   NaN        S  \n",
       "9      0            237736  30.0708   NaN        C  "
      ]
     },
     "execution_count": 42,
     "metadata": {},
     "output_type": "execute_result"
    }
   ],
   "source": [
    "passengers.head(n=10)"
   ]
  },
  {
   "cell_type": "code",
   "execution_count": 43,
   "metadata": {},
   "outputs": [
    {
     "data": {
      "text/html": [
       "<div>\n",
       "<table border=\"1\" class=\"dataframe\">\n",
       "  <thead>\n",
       "    <tr style=\"text-align: right;\">\n",
       "      <th></th>\n",
       "      <th>PassengerId</th>\n",
       "      <th>Survived</th>\n",
       "      <th>Pclass</th>\n",
       "      <th>Age</th>\n",
       "      <th>SibSp</th>\n",
       "      <th>Parch</th>\n",
       "      <th>Fare</th>\n",
       "    </tr>\n",
       "  </thead>\n",
       "  <tbody>\n",
       "    <tr>\n",
       "      <th>count</th>\n",
       "      <td>891.000000</td>\n",
       "      <td>891.000000</td>\n",
       "      <td>891.000000</td>\n",
       "      <td>714.000000</td>\n",
       "      <td>891.000000</td>\n",
       "      <td>891.000000</td>\n",
       "      <td>891.000000</td>\n",
       "    </tr>\n",
       "    <tr>\n",
       "      <th>mean</th>\n",
       "      <td>446.000000</td>\n",
       "      <td>0.383838</td>\n",
       "      <td>2.308642</td>\n",
       "      <td>29.699118</td>\n",
       "      <td>0.523008</td>\n",
       "      <td>0.381594</td>\n",
       "      <td>32.204208</td>\n",
       "    </tr>\n",
       "    <tr>\n",
       "      <th>std</th>\n",
       "      <td>257.353842</td>\n",
       "      <td>0.486592</td>\n",
       "      <td>0.836071</td>\n",
       "      <td>14.526497</td>\n",
       "      <td>1.102743</td>\n",
       "      <td>0.806057</td>\n",
       "      <td>49.693429</td>\n",
       "    </tr>\n",
       "    <tr>\n",
       "      <th>min</th>\n",
       "      <td>1.000000</td>\n",
       "      <td>0.000000</td>\n",
       "      <td>1.000000</td>\n",
       "      <td>0.420000</td>\n",
       "      <td>0.000000</td>\n",
       "      <td>0.000000</td>\n",
       "      <td>0.000000</td>\n",
       "    </tr>\n",
       "    <tr>\n",
       "      <th>25%</th>\n",
       "      <td>223.500000</td>\n",
       "      <td>0.000000</td>\n",
       "      <td>2.000000</td>\n",
       "      <td>20.125000</td>\n",
       "      <td>0.000000</td>\n",
       "      <td>0.000000</td>\n",
       "      <td>7.910400</td>\n",
       "    </tr>\n",
       "    <tr>\n",
       "      <th>50%</th>\n",
       "      <td>446.000000</td>\n",
       "      <td>0.000000</td>\n",
       "      <td>3.000000</td>\n",
       "      <td>28.000000</td>\n",
       "      <td>0.000000</td>\n",
       "      <td>0.000000</td>\n",
       "      <td>14.454200</td>\n",
       "    </tr>\n",
       "    <tr>\n",
       "      <th>75%</th>\n",
       "      <td>668.500000</td>\n",
       "      <td>1.000000</td>\n",
       "      <td>3.000000</td>\n",
       "      <td>38.000000</td>\n",
       "      <td>1.000000</td>\n",
       "      <td>0.000000</td>\n",
       "      <td>31.000000</td>\n",
       "    </tr>\n",
       "    <tr>\n",
       "      <th>max</th>\n",
       "      <td>891.000000</td>\n",
       "      <td>1.000000</td>\n",
       "      <td>3.000000</td>\n",
       "      <td>80.000000</td>\n",
       "      <td>8.000000</td>\n",
       "      <td>6.000000</td>\n",
       "      <td>512.329200</td>\n",
       "    </tr>\n",
       "  </tbody>\n",
       "</table>\n",
       "</div>"
      ],
      "text/plain": [
       "       PassengerId    Survived      Pclass         Age       SibSp  \\\n",
       "count   891.000000  891.000000  891.000000  714.000000  891.000000   \n",
       "mean    446.000000    0.383838    2.308642   29.699118    0.523008   \n",
       "std     257.353842    0.486592    0.836071   14.526497    1.102743   \n",
       "min       1.000000    0.000000    1.000000    0.420000    0.000000   \n",
       "25%     223.500000    0.000000    2.000000   20.125000    0.000000   \n",
       "50%     446.000000    0.000000    3.000000   28.000000    0.000000   \n",
       "75%     668.500000    1.000000    3.000000   38.000000    1.000000   \n",
       "max     891.000000    1.000000    3.000000   80.000000    8.000000   \n",
       "\n",
       "            Parch        Fare  \n",
       "count  891.000000  891.000000  \n",
       "mean     0.381594   32.204208  \n",
       "std      0.806057   49.693429  \n",
       "min      0.000000    0.000000  \n",
       "25%      0.000000    7.910400  \n",
       "50%      0.000000   14.454200  \n",
       "75%      0.000000   31.000000  \n",
       "max      6.000000  512.329200  "
      ]
     },
     "execution_count": 43,
     "metadata": {},
     "output_type": "execute_result"
    }
   ],
   "source": [
    "passengers.describe()"
   ]
  },
  {
   "cell_type": "markdown",
   "metadata": {},
   "source": [
    "We can see from the data above that the average age of passengers aboard the ship is about 30. However, the standard deviation is significant. "
   ]
  },
  {
   "cell_type": "code",
   "execution_count": 44,
   "metadata": {},
   "outputs": [
    {
     "data": {
      "text/plain": [
       "<matplotlib.axes._subplots.AxesSubplot at 0x11dac1c90>"
      ]
     },
     "execution_count": 44,
     "metadata": {},
     "output_type": "execute_result"
    },
    {
     "data": {
      "image/png": "[encoded data removed]",
      "text/plain": [
       "<matplotlib.figure.Figure at 0x11d6cd110>"
      ]
     },
     "metadata": {},
     "output_type": "display_data"
    }
   ],
   "source": [
    "passengers[\"Age\"].hist()"
   ]
  },
  {
   "cell_type": "markdown",
   "metadata": {},
   "source": [
    "As one might expect, most passengers bought Third Class tickets:"
   ]
  },
  {
   "cell_type": "code",
   "execution_count": 45,
   "metadata": {},
   "outputs": [
    {
     "data": {
      "text/plain": [
       "Pclass\n",
       "1    216\n",
       "2    184\n",
       "3    491\n",
       "dtype: int64"
      ]
     },
     "execution_count": 45,
     "metadata": {},
     "output_type": "execute_result"
    }
   ],
   "source": [
    "passengers.groupby(\"Pclass\").apply(len)"
   ]
  },
  {
   "cell_type": "markdown",
   "metadata": {},
   "source": [
    "On average, passengers paid about 32 pounds sterling for their tickets. Relatively few passengers paid more than 100 pounds. "
   ]
  },
  {
   "cell_type": "code",
   "execution_count": 46,
   "metadata": {},
   "outputs": [
    {
     "data": {
      "text/plain": [
       "<matplotlib.axes._subplots.AxesSubplot at 0x11db1e490>"
      ]
     },
     "execution_count": 46,
     "metadata": {},
     "output_type": "execute_result"
    },
    {
     "data": {
      "image/png": "[encoded data removed]",
      "text/plain": [
       "<matplotlib.figure.Figure at 0x11d9e3d50>"
      ]
     },
     "metadata": {},
     "output_type": "display_data"
    }
   ],
   "source": [
    "passengers[\"Fare\"].hist()"
   ]
  },
  {
   "cell_type": "markdown",
   "metadata": {},
   "source": [
    "Other interesting things to note:\n",
    "* approximately 38% of passengers survived\n",
    "* the average passenger traveled in second class\n",
    "* the highest fare paid by a customer was £512.3292, which is £53,701.42 in 2016 pound sterling (approximately $70,000)"
   ]
  },
  {
   "cell_type": "markdown",
   "metadata": {},
   "source": [
    "## Passenger Age\n",
    "For some calculations, it is useful to consider only the adult passengers:"
   ]
  },
  {
   "cell_type": "code",
   "execution_count": 47,
   "metadata": {
    "collapsed": true
   },
   "outputs": [],
   "source": [
    "adult_passengers = passengers[passengers[\"Age\"] >= 18]"
   ]
  },
  {
   "cell_type": "markdown",
   "metadata": {},
   "source": [
    "## Gender and Survival Rate"
   ]
  },
  {
   "cell_type": "markdown",
   "metadata": {},
   "source": [
    "The question to be considered in this section is the influence of gender on a passenger's chances of survival."
   ]
  },
  {
   "cell_type": "code",
   "execution_count": 48,
   "metadata": {
    "collapsed": true
   },
   "outputs": [],
   "source": [
    "# Calculate survival rate by column_name\n",
    "def survival_rate_by_variable(var_name, var_value, population):\n",
    "    total_var_pop = population[population[var_name] == var_value]\n",
    "    var_survivors = total_var_pop[total_var_pop[\"Survived\"] == 1]\n",
    "    return (len(var_survivors)/len(total_var_pop)) * 100"
   ]
  },
  {
   "cell_type": "code",
   "execution_count": 49,
   "metadata": {},
   "outputs": [
    {
     "name": "stdout",
     "output_type": "stream",
     "text": [
      "Female Survival Rate: 77.1844660194%\n",
      "Male Survival Rate: 17.7215189873%\n"
     ]
    }
   ],
   "source": [
    "percent_female_survivors = survival_rate_by_variable(\"Sex\", \"female\", adult_passengers)\n",
    "percent_male_survivors = survival_rate_by_variable(\"Sex\", \"male\", adult_passengers)\n",
    "\n",
    "print (\"Female Survival Rate: {}%\").format(percent_female_survivors)\n",
    "print (\"Male Survival Rate: {}%\").format(percent_male_survivors)"
   ]
  },
  {
   "cell_type": "markdown",
   "metadata": {},
   "source": [
    "We see above that the percentage of women who survived is approximately 77.52%, while the proportion of men who survived is a mere 17.43%. This makes sense given the \"women and children first\" protocol implemented during the evacuation of the ship."
   ]
  },
  {
   "cell_type": "markdown",
   "metadata": {
    "collapsed": true
   },
   "source": [
    "## Socioeconomic Class and Survival Rate"
   ]
  },
  {
   "cell_type": "raw",
   "metadata": {},
   "source": [
    "Here I am using the class passenger's ticket as a proxy for their socioeconomic status. "
   ]
  },
  {
   "cell_type": "code",
   "execution_count": 50,
   "metadata": {},
   "outputs": [
    {
     "name": "stdout",
     "output_type": "stream",
     "text": [
      "First Class Survival Rate: 63.7931034483%\n",
      "Second Class Survival Rate: 41.3333333333%\n",
      "Third Class Survival Rate: 20.2166064982%\n"
     ]
    }
   ],
   "source": [
    "# Get the survival rate for each ticket class\n",
    "percent_first_class_survivors = survival_rate_by_variable(\"Pclass\", 1, adult_passengers)\n",
    "percent_second_class_survivors = survival_rate_by_variable(\"Pclass\", 2, adult_passengers)\n",
    "percent_third_class_survivors = survival_rate_by_variable(\"Pclass\", 3, adult_passengers)\n",
    "\n",
    "print (\"First Class Survival Rate: {}%\").format(percent_first_class_survivors)\n",
    "print (\"Second Class Survival Rate: {}%\").format(percent_second_class_survivors)\n",
    "print (\"Third Class Survival Rate: {}%\").format(percent_third_class_survivors)\n"
   ]
  },
  {
   "cell_type": "markdown",
   "metadata": {
    "collapsed": true
   },
   "source": [
    "There is a significant correlation between a passenger's economic class and their chances of survival. \n",
    "This is consistent with reports of different evacuation procedures for each class of passengers. First class passengers were guided to the deck. Second and third class passengers were not guided to the deck, but were given verbal directions to report to the deck.\n",
    "Many passengers either refused to believe that the ship was sinking or didn't want to leave their warm cabins for the frosty air outside. As such, the insistent guidance of the first-class stewards significantly influenced the survival rate of the passengers under their care. "
   ]
  },
  {
   "cell_type": "markdown",
   "metadata": {},
   "source": [
    "## Question: Age and Survival Rate"
   ]
  },
  {
   "cell_type": "code",
   "execution_count": 51,
   "metadata": {},
   "outputs": [
    {
     "data": {
      "text/plain": [
       "<matplotlib.axes._subplots.AxesSubplot at 0x11dc52cd0>"
      ]
     },
     "execution_count": 51,
     "metadata": {},
     "output_type": "execute_result"
    },
    {
     "data": {
      "image/png": "[encoded data removed]",
      "text/plain": [
       "<matplotlib.figure.Figure at 0x11d394890>"
      ]
     },
     "metadata": {},
     "output_type": "display_data"
    }
   ],
   "source": [
    "# Group passengers by age group and get the survival rate for each group\n",
    "age_buckets = [0, 10, 20, 30, 40, 50, 60, 70, 80]\n",
    "age_bucket_labels = [\"0-10\", \"11-20\", \"21-30\", \"31-40\", \"41-50\", \"51-60\", \"61-70\", \"71-80\"]\n",
    "age_groups = pd.cut(passengers[\"Age\"], age_buckets, labels=age_bucket_labels, include_lowest=True)\n",
    "passengers[\"AgeGroup\"] = age_groups\n",
    "\n",
    "survival_rate_by_age = pd.Series([])\n",
    "\n",
    "for age_group in age_groups.unique().dropna():\n",
    "    age_group_survival_rate = pd.Series([survival_rate_by_variable(\"AgeGroup\", age_group, passengers)], index=[age_group])\n",
    "    survival_rate_by_age = survival_rate_by_age.append(age_group_survival_rate)\n",
    "    \n",
    "survival_rate_by_age.sort_index().plot()"
   ]
  },
  {
   "cell_type": "markdown",
   "metadata": {},
   "source": [
    "You'll see that the survival rate for the very young is quite high. Again, this is consistent with reports that women and children were given priority during evacuation. The low rates of survival among elderly passengers may have been due to their physical inability to get to the deck.  "
   ]
  },
  {
   "cell_type": "markdown",
   "metadata": {},
   "source": [
    "## Traveling With Others and Survival Rate"
   ]
  },
  {
   "cell_type": "code",
   "execution_count": 52,
   "metadata": {},
   "outputs": [
    {
     "name": "stdout",
     "output_type": "stream",
     "text": [
      "Passengers traveling with sibling or spouse: 47.3988439306%\n",
      "Passengers traveling with parent or child: 52.6785714286%\n",
      "Passengers traveling alone: 31.4960629921%\n",
      "Female passengers traveling with sibling or spouse: 74.4186046512%\n",
      "Male passengers traveling with sibling or spouse: 20.6896551724%\n",
      "Female passengers traveling alone: 78.6516853933%\n",
      "Male passengers traveling alone: 17.1232876712%\n",
      "Female passengers traveling with parent or child: 75.7142857143%\n",
      "Male passengers traveling with parent or child: 14.2857142857%\n"
     ]
    }
   ],
   "source": [
    "def survival_rate_by_accompaniment(var_name, population):\n",
    "    total_var_pop = population[population[var_name] > 0]\n",
    "    var_survivors = total_var_pop[total_var_pop[\"Survived\"] == 1]\n",
    "    return (len(var_survivors)/len(total_var_pop)) * 100\n",
    "\n",
    "def survival_rate_for_solo(population):\n",
    "    sans_sib_sp = population[population[\"SibSp\"] == 0]\n",
    "    total_solo_pop = sans_sib_sp[sans_sib_sp[\"Parch\"] == 0]\n",
    "    var_survivors = total_solo_pop[total_solo_pop[\"Survived\"] == 1]\n",
    "    return (len(var_survivors)/len(total_solo_pop)) * 100\n",
    "\n",
    "print(\"Passengers traveling with sibling or spouse: {}%\").format(survival_rate_by_accompaniment(\"SibSp\", adult_passengers)) \n",
    "print(\"Passengers traveling with parent or child: {}%\").format(survival_rate_by_accompaniment(\"Parch\", adult_passengers))\n",
    "print(\"Passengers traveling alone: {}%\").format(survival_rate_for_solo(adult_passengers))\n",
    "\n",
    "female_passengers = adult_passengers[adult_passengers[\"Sex\"] == \"female\"]\n",
    "male_passengers = adult_passengers[adult_passengers[\"Sex\"] == \"male\"]\n",
    "\n",
    "print(\"Female passengers traveling with sibling or spouse: {}%\").format(survival_rate_by_accompaniment(\"SibSp\", female_passengers))\n",
    "print(\"Male passengers traveling with sibling or spouse: {}%\").format(survival_rate_by_accompaniment(\"SibSp\", male_passengers))\n",
    "print(\"Female passengers traveling alone: {}%\").format(survival_rate_for_solo(female_passengers))\n",
    "print(\"Male passengers traveling alone: {}%\").format(survival_rate_for_solo(male_passengers))\n",
    "\n",
    "print(\"Female passengers traveling with parent or child: {}%\").format(survival_rate_by_accompaniment(\"Parch\", female_passengers))\n",
    "print(\"Male passengers traveling with parent or child: {}%\").format(survival_rate_by_accompaniment(\"Parch\", male_passengers))"
   ]
  },
  {
   "cell_type": "markdown",
   "metadata": {},
   "source": [
    "There does not appear to be any correlation between traveling with family and survival. The survival rates by gender above are quite similar to the overall survival rates by gender. I initially suspected that some families might have been insistent upon not leaving any members behind or perhaps that men who traveled with their children might be given seats on the lifeboats. "
   ]
  },
  {
   "cell_type": "markdown",
   "metadata": {},
   "source": [
    "## Port of Embarkation and Survival"
   ]
  },
  {
   "cell_type": "code",
   "execution_count": 53,
   "metadata": {},
   "outputs": [
    {
     "name": "stdout",
     "output_type": "stream",
     "text": [
      "Cherbourg count: 106\n",
      "Southampton count: 472\n",
      "Queenstown count: 21\n"
     ]
    }
   ],
   "source": [
    "num_passengers_by_port = adult_passengers.groupby(\"Embarked\").apply(len)\n",
    "\n",
    "print (\"Cherbourg count: {}\").format(num_passengers_by_port[\"C\"])\n",
    "print (\"Southampton count: {}\").format(num_passengers_by_port[\"S\"])\n",
    "print (\"Queenstown count: {}\").format(num_passengers_by_port[\"Q\"])"
   ]
  },
  {
   "cell_type": "code",
   "execution_count": 54,
   "metadata": {},
   "outputs": [
    {
     "name": "stdout",
     "output_type": "stream",
     "text": [
      "Cherbourg: 57.5471698113%\n",
      "Southampton: 34.1101694915%\n",
      "Queenstown: 23.8095238095%\n"
     ]
    }
   ],
   "source": [
    "percent_cherbourg_survivors = survival_rate_by_variable(\"Embarked\", \"C\", adult_passengers)\n",
    "percent_queenstown_survivors = survival_rate_by_variable(\"Embarked\", \"Q\", adult_passengers)\n",
    "percent_southampton_survivors = survival_rate_by_variable(\"Embarked\", \"S\", adult_passengers)\n",
    "\n",
    "print (\"Cherbourg: {}%\").format(percent_cherbourg_survivors )\n",
    "print (\"Southampton: {}%\").format(percent_southampton_survivors)\n",
    "print (\"Queenstown: {}%\").format(percent_queenstown_survivors)"
   ]
  },
  {
   "cell_type": "markdown",
   "metadata": {},
   "source": [
    "There's a significant disparity in survival rates based on the port from which a passenger embarked. I imagine that the difference is due to economic activity in each of the cities. My guess would be that Cherbourg was the richest of the three cities.  "
   ]
  }
 ],
 "metadata": {
  "kernelspec": {
   "display_name": "Python 2",
   "language": "python",
   "name": "python2"
  },
  "language_info": {
   "codemirror_mode": {
    "name": "ipython",
    "version": 2
   },
   "file_extension": ".py",
   "mimetype": "text/x-python",
   "name": "python",
   "nbconvert_exporter": "python",
   "pygments_lexer": "ipython2",
   "version": "2.7.13"
  }
 },
 "nbformat": 4,
 "nbformat_minor": 2
}
