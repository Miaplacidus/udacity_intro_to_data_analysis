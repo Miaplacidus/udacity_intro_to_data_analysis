{
 "cells": [
  {
   "cell_type": "markdown",
   "metadata": {},
   "source": [
    "Before we get started, a couple of reminders to keep in mind when using iPython notebooks:\n",
    "\n",
    "- Remember that you can see from the left side of a code cell when it was last run if there is a number within the brackets.\n",
    "- When you start a new notebook session, make sure you run all of the cells up to the point where you last left off. Even if the output is still visible from when you ran the cells in your previous session, the kernel starts in a fresh state so you'll need to reload the data, etc. on a new session.\n",
    "- The previous point is useful to keep in mind if your answers do not match what is expected in the lesson's quizzes. Try reloading the data and run all of the processing steps one by one in order to make sure that you are working with the same variables and data that are at each quiz stage.\n",
    "\n",
    "\n",
    "## Load Data from CSVs"
   ]
  },
  {
   "cell_type": "code",
   "execution_count": 62,
   "metadata": {},
   "outputs": [
    {
     "name": "stdout",
     "output_type": "stream",
     "text": [
      "\n"
     ]
    }
   ],
   "source": [
    "import unicodecsv\n",
    "import simplejson as json\n",
    "from datetime import datetime as dt\n",
    "\n",
    "## pretty printing JSON\n",
    "\n",
    "def datetime_to_str(dt_obj):\n",
    "    if isinstance(dt_obj, dt):\n",
    "        return dt_obj.__str__()\n",
    "\n",
    "def pprint_json(prefix, json_objs):\n",
    "    for json_obj in json_objs:\n",
    "        print prefix, json.dumps(json_obj, indent=2, default=datetime_to_str)\n",
    "\n",
    "## Longer version of code (replaced with shorter, equivalent version below)\n",
    "\n",
    "# enrollments = []\n",
    "# f = open('enrollments.csv', 'rb')\n",
    "# reader = unicodecsv.DictReader(f)\n",
    "# for row in reader:\n",
    "#     enrollments.append(row)\n",
    "# f.close()\n",
    "\n",
    "with open('enrollments.csv', 'rb') as f:\n",
    "    reader = unicodecsv.DictReader(f)\n",
    "    enrollments = list(reader)"
   ]
  },
  {
   "cell_type": "code",
   "execution_count": 63,
   "metadata": {
    "scrolled": false
   },
   "outputs": [
    {
     "name": "stdout",
     "output_type": "stream",
     "text": [
      "daily_engagement: {\n",
      "  \"lessons_completed\": \"0.0\",\n",
      "  \"num_courses_visited\": \"1.0\",\n",
      "  \"total_minutes_visited\": \"11.6793745\",\n",
      "  \"projects_completed\": \"0.0\",\n",
      "  \"acct\": \"0\",\n",
      "  \"utc_date\": \"2015-01-09\"\n",
      "}\n",
      "project_submission: {\n",
      "  \"lesson_key\": \"3176718735\",\n",
      "  \"processing_state\": \"EVALUATED\",\n",
      "  \"account_key\": \"256\",\n",
      "  \"assigned_rating\": \"UNGRADED\",\n",
      "  \"completion_date\": \"2015-01-16\",\n",
      "  \"creation_date\": \"2015-01-14\"\n",
      "}\n",
      "enrollment: {\n",
      "  \"status\": \"canceled\",\n",
      "  \"is_udacity\": \"True\",\n",
      "  \"is_canceled\": \"True\",\n",
      "  \"join_date\": \"2014-11-10\",\n",
      "  \"account_key\": \"448\",\n",
      "  \"cancel_date\": \"2015-01-14\",\n",
      "  \"days_to_cancel\": \"65\"\n",
      "}\n"
     ]
    }
   ],
   "source": [
    "#####################################\n",
    "#                 1                 #\n",
    "#####################################\n",
    "\n",
    "## Read in the data from daily_engagement.csv and project_submissions.csv \n",
    "## and store the results in the below variables.\n",
    "## Then look at the first row of each table.\n",
    "\n",
    "import unicodecsv\n",
    "\n",
    "with open('daily_engagement.csv', 'rb') as f:\n",
    "    reader = unicodecsv.DictReader(f)\n",
    "    daily_engagement = list(reader)\n",
    "     \n",
    "with open('project_submissions.csv', 'rb') as f:\n",
    "    rows = unicodecsv.DictReader(f)\n",
    "    project_submissions = list(rows)\n",
    "\n",
    "pprint_json(\"daily_engagement:\", [daily_engagement[0]])\n",
    "pprint_json(\"project_submission:\", [project_submissions[0]])\n",
    "pprint_json(\"enrollment:\", [enrollments[0]])"
   ]
  },
  {
   "cell_type": "markdown",
   "metadata": {},
   "source": [
    "## Fixing Data Types"
   ]
  },
  {
   "cell_type": "code",
   "execution_count": 64,
   "metadata": {},
   "outputs": [
    {
     "data": {
      "text/plain": [
       "{u'account_key': u'448',\n",
       " u'cancel_date': datetime.datetime(2015, 1, 14, 0, 0),\n",
       " u'days_to_cancel': 65,\n",
       " u'is_canceled': True,\n",
       " u'is_udacity': True,\n",
       " u'join_date': datetime.datetime(2014, 11, 10, 0, 0),\n",
       " u'status': u'canceled'}"
      ]
     },
     "execution_count": 64,
     "metadata": {},
     "output_type": "execute_result"
    }
   ],
   "source": [
    "# Takes a date as a string, and returns a Python datetime object. \n",
    "# If there is no date given, returns None\n",
    "def parse_date(date):\n",
    "    if date == '':\n",
    "        return None\n",
    "    else:\n",
    "        return dt.strptime(date, '%Y-%m-%d')\n",
    "    \n",
    "# Takes a string which is either an empty string or represents an integer,\n",
    "# and returns an int or None.\n",
    "def parse_maybe_int(i):\n",
    "    if i == '':\n",
    "        return None\n",
    "    else:\n",
    "        return int(i)\n",
    "\n",
    "# Clean up the data types in the enrollments table\n",
    "for enrollment in enrollments:\n",
    "    enrollment['cancel_date'] = parse_date(enrollment['cancel_date'])\n",
    "    enrollment['days_to_cancel'] = parse_maybe_int(enrollment['days_to_cancel'])\n",
    "    enrollment['is_canceled'] = enrollment['is_canceled'] == 'True'\n",
    "    enrollment['is_udacity'] = enrollment['is_udacity'] == 'True'\n",
    "    enrollment['join_date'] = parse_date(enrollment['join_date'])\n",
    "    \n",
    "enrollments[0]"
   ]
  },
  {
   "cell_type": "code",
   "execution_count": 65,
   "metadata": {},
   "outputs": [
    {
     "data": {
      "text/plain": [
       "{u'acct': u'0',\n",
       " u'lessons_completed': 0,\n",
       " u'num_courses_visited': 1,\n",
       " u'projects_completed': 0,\n",
       " u'total_minutes_visited': 11.6793745,\n",
       " u'utc_date': datetime.datetime(2015, 1, 9, 0, 0)}"
      ]
     },
     "execution_count": 65,
     "metadata": {},
     "output_type": "execute_result"
    }
   ],
   "source": [
    "# Clean up the data types in the engagement table\n",
    "for engagement_record in daily_engagement:\n",
    "    engagement_record['lessons_completed'] = int(float(engagement_record['lessons_completed']))\n",
    "    engagement_record['num_courses_visited'] = int(float(engagement_record['num_courses_visited']))\n",
    "    engagement_record['projects_completed'] = int(float(engagement_record['projects_completed']))\n",
    "    engagement_record['total_minutes_visited'] = float(engagement_record['total_minutes_visited'])\n",
    "    engagement_record['utc_date'] = parse_date(engagement_record['utc_date'])\n",
    "    \n",
    "daily_engagement[0]"
   ]
  },
  {
   "cell_type": "code",
   "execution_count": 66,
   "metadata": {},
   "outputs": [
    {
     "data": {
      "text/plain": [
       "{u'account_key': u'256',\n",
       " u'assigned_rating': u'UNGRADED',\n",
       " u'completion_date': datetime.datetime(2015, 1, 16, 0, 0),\n",
       " u'creation_date': datetime.datetime(2015, 1, 14, 0, 0),\n",
       " u'lesson_key': u'3176718735',\n",
       " u'processing_state': u'EVALUATED'}"
      ]
     },
     "execution_count": 66,
     "metadata": {},
     "output_type": "execute_result"
    }
   ],
   "source": [
    "# Clean up the data types in the submissions table\n",
    "for submission in project_submissions:\n",
    "    submission['completion_date'] = parse_date(submission['completion_date'])\n",
    "    submission['creation_date'] = parse_date(submission['creation_date'])\n",
    "\n",
    "project_submissions[0]"
   ]
  },
  {
   "cell_type": "markdown",
   "metadata": {},
   "source": [
    "Note when running the above cells that we are actively changing the contents of our data variables. If you try to run these cells multiple times in the same session, an error will occur.\n",
    "\n",
    "## Investigating the Data"
   ]
  },
  {
   "cell_type": "code",
   "execution_count": 67,
   "metadata": {},
   "outputs": [
    {
     "name": "stdout",
     "output_type": "stream",
     "text": [
      "136240\n",
      "3642\n",
      "1640\n",
      "# of unique students in daily engagement: 1237\n",
      "# of unique students in project submissions: 743\n",
      "# of unique students in enrollents: 1302\n"
     ]
    }
   ],
   "source": [
    "#####################################\n",
    "#                 2                 #\n",
    "#####################################\n",
    "\n",
    "## Find the total number of rows and the number of unique students (account keys)\n",
    "## in each table.\n",
    "\n",
    "print(len(daily_engagement))\n",
    "# 136240\n",
    "print(len(project_submissions))\n",
    "# 3642\n",
    "print(len(enrollments))\n",
    "# 1640\n",
    "\n",
    "for engagement in daily_engagement:\n",
    "    engagement[\"account_key\"] = engagement[\"acct\"]\n",
    "    del engagement[\"acct\"]\n",
    "\n",
    "def get_unique_students(udacity_data):\n",
    "    account_keys = {}\n",
    "    for row in udacity_data:\n",
    "        account_keys[row[\"account_key\"]] = True\n",
    "    \n",
    "    return account_keys\n",
    "\n",
    "unique_daily_engagement_students = get_unique_students(daily_engagement)\n",
    "print \"# of unique students in daily engagement:\", len(unique_daily_engagement_students)\n",
    "# 1237   \n",
    "\n",
    "unique_project_submission_students = get_unique_students(project_submissions)\n",
    "print \"# of unique students in project submissions:\", len(unique_project_submission_students)\n",
    "# 743\n",
    "    \n",
    "unique_enrollment_students = get_unique_students(enrollments)\n",
    "print \"# of unique students in enrollents:\", len(unique_enrollment_students)\n",
    "# 1302"
   ]
  },
  {
   "cell_type": "markdown",
   "metadata": {},
   "source": [
    "## Problems in the Data"
   ]
  },
  {
   "cell_type": "code",
   "execution_count": 68,
   "metadata": {
    "collapsed": true
   },
   "outputs": [],
   "source": [
    "#####################################\n",
    "#                 3                 #\n",
    "#####################################\n",
    "\n",
    "## Rename the \"acct\" column in the daily_engagement table to \"account_key\".\n",
    "\n",
    "# for engagement in daily_engagement:\n",
    "#     engagement[\"account_key\"] = engagement[\"acct\"]\n",
    "#     del engagement[\"acct\"]"
   ]
  },
  {
   "cell_type": "markdown",
   "metadata": {},
   "source": [
    "## Missing Engagement Records"
   ]
  },
  {
   "cell_type": "code",
   "execution_count": 69,
   "metadata": {},
   "outputs": [
    {
     "name": "stdout",
     "output_type": "stream",
     "text": [
      "missing enrollment: {\n",
      "  \"status\": \"canceled\",\n",
      "  \"is_udacity\": false,\n",
      "  \"is_canceled\": true,\n",
      "  \"join_date\": \"2014-11-12 00:00:00\",\n",
      "  \"account_key\": \"1219\",\n",
      "  \"cancel_date\": \"2014-11-12 00:00:00\",\n",
      "  \"days_to_cancel\": 0\n",
      "}\n"
     ]
    }
   ],
   "source": [
    "#####################################\n",
    "#                 4                 #\n",
    "#####################################\n",
    "\n",
    "## Find any one student enrollments where the student is missing from the daily engagement table.\n",
    "## Output that enrollment.\n",
    "        \n",
    "for enrollment in enrollments:\n",
    "    if enrollment[\"account_key\"] not in unique_daily_engagement_students:\n",
    "        pprint_json(\"missing enrollment:\", [enrollment])\n",
    "        break\n"
   ]
  },
  {
   "cell_type": "markdown",
   "metadata": {},
   "source": [
    "## Checking for More Problem Records"
   ]
  },
  {
   "cell_type": "code",
   "execution_count": 70,
   "metadata": {},
   "outputs": [
    {
     "name": "stdout",
     "output_type": "stream",
     "text": [
      "problem enrollment_record: {\n",
      "  \"1304\": {\n",
      "    \"status\": \"canceled\",\n",
      "    \"is_udacity\": true,\n",
      "    \"is_canceled\": true,\n",
      "    \"join_date\": \"2015-03-10 00:00:00\",\n",
      "    \"account_key\": \"1304\",\n",
      "    \"cancel_date\": \"2015-06-17 00:00:00\",\n",
      "    \"days_to_cancel\": 99\n",
      "  },\n",
      "  \"1101\": {\n",
      "    \"status\": \"current\",\n",
      "    \"is_udacity\": true,\n",
      "    \"is_canceled\": false,\n",
      "    \"join_date\": \"2015-02-25 00:00:00\",\n",
      "    \"account_key\": \"1101\",\n",
      "    \"cancel_date\": null,\n",
      "    \"days_to_cancel\": null\n",
      "  }\n",
      "}\n",
      "2\n",
      "3\n"
     ]
    }
   ],
   "source": [
    "#####################################\n",
    "#                 5                 #\n",
    "#####################################\n",
    "\n",
    "## Find the number of surprising data points (enrollments missing from\n",
    "## the engagement table) that remain, if any.\n",
    "    \n",
    "nums = 0\n",
    "problem_enrollment_records = {}\n",
    "\n",
    "for enrollment in enrollments: \n",
    "    if enrollment[\"account_key\"] not in unique_daily_engagement_students and enrollment['days_to_cancel'] != 0:\n",
    "            problem_enrollment_records[enrollment[\"account_key\"]] = enrollment\n",
    "            nums +=1\n",
    "            \n",
    "pprint_json(\"problem enrollment_record:\", [problem_enrollment_records])\n",
    "print(len(problem_enrollment_records))\n",
    "print(nums)\n",
    "# the inconsistency arises because of multiple enrollments under an account"
   ]
  },
  {
   "cell_type": "markdown",
   "metadata": {},
   "source": [
    "## Tracking Down the Remaining Problems"
   ]
  },
  {
   "cell_type": "code",
   "execution_count": 144,
   "metadata": {},
   "outputs": [
    {
     "data": {
      "text/plain": [
       "6"
      ]
     },
     "execution_count": 144,
     "metadata": {},
     "output_type": "execute_result"
    }
   ],
   "source": [
    "# Create a set of the account keys for all Udacity test accounts\n",
    "udacity_test_accounts = set()\n",
    "for enrollment in enrollments:\n",
    "    if enrollment['is_udacity']:\n",
    "        udacity_test_accounts.add(enrollment['account_key'])\n",
    "len(udacity_test_accounts)"
   ]
  },
  {
   "cell_type": "code",
   "execution_count": 145,
   "metadata": {
    "collapsed": true
   },
   "outputs": [],
   "source": [
    "# Given some data with an account_key field, removes any records corresponding to Udacity test accounts\n",
    "def remove_udacity_accounts(data):\n",
    "    non_udacity_data = []\n",
    "    for data_point in data:\n",
    "        if data_point['account_key'] not in udacity_test_accounts:\n",
    "            non_udacity_data.append(data_point)\n",
    "    return non_udacity_data"
   ]
  },
  {
   "cell_type": "code",
   "execution_count": 146,
   "metadata": {},
   "outputs": [
    {
     "name": "stdout",
     "output_type": "stream",
     "text": [
      "1622\n",
      "135656\n",
      "3634\n"
     ]
    }
   ],
   "source": [
    "# Remove Udacity test accounts from all three tables\n",
    "non_udacity_enrollments = remove_udacity_accounts(enrollments)\n",
    "non_udacity_engagement = remove_udacity_accounts(daily_engagement)\n",
    "non_udacity_submissions = remove_udacity_accounts(project_submissions)\n",
    "\n",
    "print(len(non_udacity_enrollments))\n",
    "print(len(non_udacity_engagement))\n",
    "print(len(non_udacity_submissions))"
   ]
  },
  {
   "cell_type": "markdown",
   "metadata": {},
   "source": [
    "## Refining the Question"
   ]
  },
  {
   "cell_type": "code",
   "execution_count": 147,
   "metadata": {},
   "outputs": [
    {
     "name": "stdout",
     "output_type": "stream",
     "text": [
      "995\n"
     ]
    }
   ],
   "source": [
    "#####################################\n",
    "#                 6                 #\n",
    "#####################################\n",
    "\n",
    "## Create a dictionary named paid_students containing all students who either\n",
    "## haven't canceled yet or who remained enrolled for more than 7 days. The keys\n",
    "## should be account keys, and the values should be the date the student enrolled.\n",
    "\n",
    "paid_students = {}\n",
    "\n",
    "for enrollment in non_udacity_enrollments: \n",
    "    if enrollment[\"days_to_cancel\"] == None or enrollment[\"days_to_cancel\"] > 7:\n",
    "        account_key = enrollment[\"account_key\"]\n",
    "        enrollment_date = enrollment[\"join_date\"]\n",
    "        # get student's most recent enrollment\n",
    "        if account_key not in paid_students or enrollment_date > paid_students[account_key]:\n",
    "            paid_students[account_key] = enrollment_date\n",
    "\n",
    "print(len(paid_students))"
   ]
  },
  {
   "cell_type": "markdown",
   "metadata": {},
   "source": [
    "## Getting Data from First Week"
   ]
  },
  {
   "cell_type": "code",
   "execution_count": 148,
   "metadata": {
    "collapsed": true
   },
   "outputs": [],
   "source": [
    "# Takes a student's join date and the date of a specific engagement record,\n",
    "# and returns True if that engagement record happened within one week\n",
    "# of the student joining.\n",
    "def within_one_week(join_date, engagement_date):\n",
    "    time_delta = engagement_date - join_date\n",
    "    return time_delta.days < 7 and time_delta.days >=0"
   ]
  },
  {
   "cell_type": "code",
   "execution_count": 149,
   "metadata": {},
   "outputs": [
    {
     "name": "stdout",
     "output_type": "stream",
     "text": [
      "6919\n"
     ]
    }
   ],
   "source": [
    "#####################################\n",
    "#                 7                 #\n",
    "#####################################\n",
    "\n",
    "## Create a list of rows from the engagement table including only rows where\n",
    "## the student is one of the paid students you just found, and the date is within\n",
    "## one week of the student's join date.\n",
    "\n",
    "paid_engagement_in_first_week = []\n",
    "\n",
    "for engagement in non_udacity_engagement:\n",
    "    account_key = engagement[\"account_key\"]\n",
    "    if account_key in paid_students and within_one_week(paid_students[account_key], engagement[\"utc_date\"]):\n",
    "        paid_engagement_in_first_week.append(engagement)\n",
    "        \n",
    "print(len(paid_engagement_in_first_week))"
   ]
  },
  {
   "cell_type": "markdown",
   "metadata": {},
   "source": [
    "## Exploring Student Engagement"
   ]
  },
  {
   "cell_type": "code",
   "execution_count": 150,
   "metadata": {
    "collapsed": true
   },
   "outputs": [],
   "source": [
    "from collections import defaultdict\n",
    "\n",
    "# Create a dictionary of engagement grouped by student.\n",
    "# The keys are account keys, and the values are lists of engagement records.\n",
    "engagement_by_account = defaultdict(list)\n",
    "for engagement_record in paid_engagement_in_first_week:\n",
    "    account_key = engagement_record['account_key']\n",
    "    engagement_by_account[account_key].append(engagement_record)"
   ]
  },
  {
   "cell_type": "code",
   "execution_count": 151,
   "metadata": {
    "collapsed": true
   },
   "outputs": [],
   "source": [
    "# Create a dictionary with the total minutes each student spent in the classroom during the first week.\n",
    "# The keys are account keys, and the values are numbers (total minutes)\n",
    "    \n",
    "def grouped_by_account(data, attribute):\n",
    "    total_by_account = {}\n",
    "    for account_key, data_for_student in data.items():\n",
    "        total = 0\n",
    "        for record in data_for_student:\n",
    "            total += record[attribute]\n",
    "        total_by_account[account_key] = total\n",
    "    return total_by_account\n",
    "\n",
    "total_minutes_by_account = grouped_by_account(engagement_by_account, \"total_minutes_visited\")"
   ]
  },
  {
   "cell_type": "code",
   "execution_count": 152,
   "metadata": {},
   "outputs": [
    {
     "name": "stdout",
     "output_type": "stream",
     "text": [
      "('Mean:', 306.70832675342825)\n",
      "('Standard deviation:', 412.99693340852957)\n",
      "('Minimum:', 0.0)\n",
      "('Maximum:', 3564.7332644989997)\n"
     ]
    }
   ],
   "source": [
    "import numpy as np\n",
    "\n",
    "# Summarize the data about minutes spent in the classroom\n",
    "total_minutes = list(total_minutes_by_account.values())\n",
    "print ('Mean:', np.mean(total_minutes))\n",
    "print ('Standard deviation:', np.std(total_minutes))\n",
    "print ('Minimum:', np.min(total_minutes))\n",
    "print ('Maximum:', np.max(total_minutes))\n",
    "# max minutes in a week = 10,080"
   ]
  },
  {
   "cell_type": "markdown",
   "metadata": {},
   "source": [
    "## Debugging Data Analysis Code"
   ]
  },
  {
   "cell_type": "code",
   "execution_count": 153,
   "metadata": {},
   "outputs": [
    {
     "name": "stdout",
     "output_type": "stream",
     "text": [
      "('# of accounts with engagement times > week: ', 0)\n",
      "('account keys: ', [])\n",
      "('total minutes: ', 164.27089083347)\n",
      "Enrollments: \n",
      "{u'status': u'canceled', u'is_udacity': False, u'is_canceled': True, u'join_date': datetime.datetime(2015, 1, 7, 0, 0), u'account_key': u'108', u'cancel_date': datetime.datetime(2015, 4, 20, 0, 0), u'days_to_cancel': 103}\n",
      "{u'status': u'canceled', u'is_udacity': False, u'is_canceled': True, u'join_date': datetime.datetime(2015, 4, 20, 0, 0), u'account_key': u'108', u'cancel_date': datetime.datetime(2015, 5, 14, 0, 0), u'days_to_cancel': 24}\n",
      "Engagements: \n",
      "{u'lessons_completed': 0, u'num_courses_visited': 2, u'total_minutes_visited': 25.9137858334, u'projects_completed': 0, 'account_key': u'108', u'utc_date': datetime.datetime(2015, 4, 20, 0, 0)}\n",
      "{u'lessons_completed': 0, u'num_courses_visited': 1, u'total_minutes_visited': 3.40682316667, u'projects_completed': 0, 'account_key': u'108', u'utc_date': datetime.datetime(2015, 4, 21, 0, 0)}\n",
      "{u'lessons_completed': 0, u'num_courses_visited': 2, u'total_minutes_visited': 99.1186611667, u'projects_completed': 0, 'account_key': u'108', u'utc_date': datetime.datetime(2015, 4, 22, 0, 0)}\n",
      "{u'lessons_completed': 0, u'num_courses_visited': 1, u'total_minutes_visited': 35.8316206667, u'projects_completed': 2, 'account_key': u'108', u'utc_date': datetime.datetime(2015, 4, 23, 0, 0)}\n",
      "{u'lessons_completed': 0, u'num_courses_visited': 0, u'total_minutes_visited': 0.0, u'projects_completed': 0, 'account_key': u'108', u'utc_date': datetime.datetime(2015, 4, 24, 0, 0)}\n",
      "{u'lessons_completed': 0, u'num_courses_visited': 0, u'total_minutes_visited': 0.0, u'projects_completed': 0, 'account_key': u'108', u'utc_date': datetime.datetime(2015, 4, 25, 0, 0)}\n",
      "{u'lessons_completed': 0, u'num_courses_visited': 0, u'total_minutes_visited': 0.0, u'projects_completed': 0, 'account_key': u'108', u'utc_date': datetime.datetime(2015, 4, 26, 0, 0)}\n",
      "('paid_student enrollment date: ', datetime.datetime(2015, 4, 20, 0, 0))\n"
     ]
    }
   ],
   "source": [
    "#####################################\n",
    "#                 8                 #\n",
    "#####################################\n",
    "\n",
    "## Go through a similar process as before to see if there is a problem.\n",
    "## Locate at least one surprising piece of data, output it, and take a look at it.\n",
    "\n",
    "accounts_for_excessive_engagements = []\n",
    "for account_key, total_minutes in total_minutes_by_account.items():\n",
    "    if total_minutes > 10080:\n",
    "        accounts_for_excessive_engagements.append(account_key) \n",
    "\n",
    "print(\"# of accounts with engagement times > week: \", len(accounts_for_excessive_engagements))\n",
    "print(\"account keys: \", accounts_for_excessive_engagements)\n",
    "print(\"total minutes: \", total_minutes_by_account['108'])\n",
    "\n",
    "print(\"Enrollments: \")\n",
    "for enrollment in enrollments:\n",
    "    if enrollment[\"account_key\"] == '108':\n",
    "        print(enrollment)\n",
    "\n",
    "print(\"Engagements: \")        \n",
    "for engagement in engagement_by_account['108']:\n",
    "    print(engagement)\n",
    "        \n",
    "print(\"paid_student enrollment date: \", paid_students[\"108\"])"
   ]
  },
  {
   "cell_type": "markdown",
   "metadata": {},
   "source": [
    "## Lessons Completed in First Week"
   ]
  },
  {
   "cell_type": "code",
   "execution_count": 154,
   "metadata": {},
   "outputs": [
    {
     "name": "stdout",
     "output_type": "stream",
     "text": [
      "('Mean: ', 1.636180904522613)\n",
      "('Standard deviation: ', 3.0025612998294227)\n",
      "('Minimum: ', 0)\n",
      "('Maximum: ', 36)\n"
     ]
    }
   ],
   "source": [
    "#####################################\n",
    "#                 9                 #\n",
    "#####################################\n",
    "\n",
    "## Adapt the code above to find the mean, standard deviation, minimum, and maximum for\n",
    "## the number of lessons completed by each student during the first week. Try creating\n",
    "## one or more functions to re-use the code above.\n",
    "\n",
    "total_lessons_completed_by_account = grouped_by_account(engagement_by_account, \"lessons_completed\")\n",
    "\n",
    "lessons_completed = list(total_lessons_completed_by_account.values())\n",
    "\n",
    "print(\"Mean: \", np.mean(lessons_completed))\n",
    "print(\"Standard deviation: \", np.std(lessons_completed))\n",
    "print(\"Minimum: \", np.min(lessons_completed))\n",
    "print(\"Maximum: \", np.max(lessons_completed))"
   ]
  },
  {
   "cell_type": "markdown",
   "metadata": {},
   "source": [
    "## Number of Visits in First Week"
   ]
  },
  {
   "cell_type": "code",
   "execution_count": 155,
   "metadata": {},
   "outputs": [
    {
     "name": "stdout",
     "output_type": "stream",
     "text": [
      "('Mean:', 2.8673366834170855)\n",
      "('Standard deviation:', 2.2551980029196814)\n",
      "('Minimum:', 0)\n",
      "('Maximum:', 7)\n"
     ]
    }
   ],
   "source": [
    "######################################\n",
    "#                 10                 #\n",
    "######################################\n",
    "\n",
    "## Find the mean, standard deviation, minimum, and maximum for the number of\n",
    "## days each student visits the classroom during the first week.\n",
    "\n",
    "total_days_by_account = {}\n",
    "\n",
    "for account_key, engagements in engagement_by_account.items():\n",
    "    total_days = 0\n",
    "    for engagement in engagements:\n",
    "        total_days += 1 if engagement['num_courses_visited'] > 0 else 0\n",
    "    total_days_by_account[account_key] = total_days    \n",
    "    \n",
    "print(\"Mean:\", np.mean(list(total_days_by_account.values())))\n",
    "print(\"Standard deviation:\", np.std(list(total_days_by_account.values())))\n",
    "print(\"Minimum:\", np.min(list(total_days_by_account.values())))\n",
    "print(\"Maximum:\", np.max(list(total_days_by_account.values())))"
   ]
  },
  {
   "cell_type": "markdown",
   "metadata": {},
   "source": [
    "## Splitting out Passing Students"
   ]
  },
  {
   "cell_type": "code",
   "execution_count": 156,
   "metadata": {},
   "outputs": [
    {
     "name": "stdout",
     "output_type": "stream",
     "text": [
      "4527\n",
      "2392\n"
     ]
    }
   ],
   "source": [
    "######################################\n",
    "#                 11                 #\n",
    "######################################\n",
    "\n",
    "## Create two lists of engagement data for paid students in the first week.\n",
    "## The first list should contain data for students who eventually pass the\n",
    "## subway project, and the second list should contain data for students\n",
    "## who do not.\n",
    "\n",
    "subway_project_lesson_keys = ['746169184', '3176718735']\n",
    "\n",
    "passing_engagement = []\n",
    "non_passing_engagement = []\n",
    "\n",
    "# Note: a student can have multiple submissions for a single project, each of which will have\n",
    "# different assigned_rating\n",
    "\n",
    "# dictionary with account_keys as keys and lists of subway_submissions as values\n",
    "submission_by_account = defaultdict(list)\n",
    "for submission_record in non_udacity_submissions:\n",
    "    account_key = submission_record[\"account_key\"]\n",
    "    submission_by_account[account_key].append(submission_record)\n",
    "\n",
    "# for each entry in the engagement dictionary, find the associated entry in submissions_by_account\n",
    "# iterate over those submissions and append the engagements to their appropriate list\n",
    "for account_key, engagements in engagement_by_account.items():\n",
    "    submissions = submission_by_account[account_key]\n",
    "    passed = False\n",
    "    for submission in submissions:\n",
    "        if submission[\"lesson_key\"] in subway_project_lesson_keys:\n",
    "            rating = submission[\"assigned_rating\"]\n",
    "            if rating == \"PASSED\" or rating == \"DISTINCTION\":\n",
    "                passed = True            \n",
    "    if passed: \n",
    "        passing_engagement += engagements\n",
    "    else:\n",
    "        non_passing_engagement += engagements\n",
    "        \n",
    "print(len(passing_engagement))\n",
    "print(len(non_passing_engagement))"
   ]
  },
  {
   "cell_type": "markdown",
   "metadata": {},
   "source": [
    "## Comparing the Two Student Groups"
   ]
  },
  {
   "cell_type": "code",
   "execution_count": null,
   "metadata": {
    "collapsed": true
   },
   "outputs": [],
   "source": []
  },
  {
   "cell_type": "code",
   "execution_count": 157,
   "metadata": {},
   "outputs": [
    {
     "name": "stdout",
     "output_type": "stream",
     "text": [
      "Passing  Students \n",
      "Data for week 1:  lessons_completed\n",
      "Mean: 2.05255023184\n",
      "Standard deviation: 3.14222705558\n",
      "Minimum: 0\n",
      "Maximum: 36 \n",
      "\n",
      "Non-Passing  Students \n",
      "Data for week 1:  lessons_completed\n",
      "Mean: 0.862068965517\n",
      "Standard deviation: 2.54915994183\n",
      "Minimum: 0\n",
      "Maximum: 27 \n",
      "\n",
      "Passing  Students \n",
      "Data for week 1:  total_minutes_visited\n",
      "Mean: 394.586046484\n",
      "Standard deviation: 448.499519327\n",
      "Minimum: 0.0\n",
      "Maximum: 3564.7332645 \n",
      "\n",
      "Non-Passing  Students \n",
      "Data for week 1:  total_minutes_visited\n",
      "Mean: 143.326474267\n",
      "Standard deviation: 269.538619011\n",
      "Minimum: 0.0\n",
      "Maximum: 1768.52274933 \n",
      "\n",
      "Passing  Students \n",
      "Data for week 1: days_visited\n",
      "Mean: 3.38485316847\n",
      "Standard deviation: 2.25882147092\n",
      "Minimum: 0\n",
      "Maximum: 7 \n",
      "\n",
      "Non-Passing  Students \n",
      "Data for week 1: days_visited\n",
      "Mean: 1.90517241379\n",
      "Standard deviation: 1.90573144136\n",
      "Minimum: 0\n",
      "Maximum: 7 \n",
      "\n"
     ]
    }
   ],
   "source": [
    "######################################\n",
    "#                 12                 #\n",
    "######################################\n",
    "\n",
    "## Compute some metrics you're interested in and see how they differ for\n",
    "## students who pass the subway project vs. students who don't. A good\n",
    "## starting point would be the metrics we looked at earlier (minutes spent\n",
    "## in the classroom, lessons completed, and days visited).\n",
    "\n",
    "\n",
    "def group_data_by_account(data, attribute):\n",
    "    total_by_account = defaultdict(int)\n",
    "    for datum in data:\n",
    "        account_key = datum[\"account_key\"]\n",
    "        total_by_account[account_key] += datum[attribute]\n",
    "    return total_by_account\n",
    "\n",
    "def display_data(state, engagements, attribute):\n",
    "    print state, \" Students \\n\", \"Data for week 1: \", attribute\n",
    "    total_completed_by_account = group_data_by_account(engagements, attribute)\n",
    "    total_completed = list(total_completed_by_account.values())\n",
    "    print \"Mean:\", np.mean(total_completed)\n",
    "    print \"Standard deviation:\", np.std(total_completed)\n",
    "    print \"Minimum:\", np.min(total_completed)\n",
    "    print \"Maximum:\", np.max(total_completed), \"\\n\"\n",
    "\n",
    "display_data(\"Passing\", passing_engagement, \"lessons_completed\")\n",
    "display_data(\"Non-Passing\", non_passing_engagement, \"lessons_completed\")\n",
    "\n",
    "display_data(\"Passing\", passing_engagement, \"total_minutes_visited\")\n",
    "display_data(\"Non-Passing\", non_passing_engagement, \"total_minutes_visited\")\n",
    "\n",
    "def group_days_by_account(engagements):\n",
    "    total_days_by_account = defaultdict(int)\n",
    "    total_days = 0\n",
    "    for engagement in engagements:\n",
    "        account_key = engagement[\"account_key\"]\n",
    "        total_days_by_account[account_key] += 1 if engagement[\"num_courses_visited\"] > 0 else 0\n",
    "    return total_days_by_account\n",
    "\n",
    "def display_days_visited_data(state, engagements):\n",
    "    print state, \" Students \\n\", \"Data for week 1: days_visited\"\n",
    "    total_days_by_account = group_days_by_account(engagements)\n",
    "    total_days = list(total_days_by_account.values())   \n",
    "    print \"Mean:\", np.mean(total_days)\n",
    "    print \"Standard deviation:\", np.std(total_days)\n",
    "    print \"Minimum:\", np.min(total_days)\n",
    "    print \"Maximum:\", np.max(total_days), \"\\n\"\n",
    "\n",
    "display_days_visited_data(\"Passing\", passing_engagement)\n",
    "display_days_visited_data(\"Non-Passing\", non_passing_engagement)"
   ]
  },
  {
   "cell_type": "markdown",
   "metadata": {},
   "source": [
    "## Making Histograms"
   ]
  },
  {
   "cell_type": "code",
   "execution_count": 160,
   "metadata": {},
   "outputs": [
    {
     "name": "stderr",
     "output_type": "stream",
     "text": [
      "/Users/IAniemeka/anaconda/envs/intro_data_analysis/lib/python2.7/site-packages/IPython/html.py:14: ShimWarning: The `IPython.html` package has been deprecated since IPython 4.0. You should import from `notebook` instead. `IPython.html.widgets` has moved to `ipywidgets`.\n",
      "  \"`IPython.html.widgets` has moved to `ipywidgets`.\", ShimWarning)\n"
     ]
    },
    {
     "data": {
      "text/plain": [
       "<matplotlib.text.Text at 0x10c579750>"
      ]
     },
     "execution_count": 160,
     "metadata": {},
     "output_type": "execute_result"
    },
    {
     "data": {
      "image/png": "[encoded data removed]",
      "text/plain": [
       "<matplotlib.figure.Figure at 0x10be8ea90>"
      ]
     },
     "metadata": {},
     "output_type": "display_data"
    }
   ],
   "source": [
    "######################################\n",
    "#                 13                 #\n",
    "######################################\n",
    "\n",
    "## Make histograms of the three metrics we looked at earlier for both\n",
    "## students who passed the subway project and students who didn't. You\n",
    "## might also want to make histograms of any other metrics you examined.\n",
    "\n",
    "%matplotlib inline\n",
    "import matplotlib.pyplot as plt\n",
    "import seaborn as sns\n",
    "\n",
    "lessons_completed_by_account = group_data_by_account(passing_engagement, \"lessons_completed\")\n",
    "lessons_completed = list(lessons_completed_by_account.values())\n",
    "plt.hist(lessons_completed)\n",
    "plt.xlabel(\"Lessons Completed\")\n",
    "plt.ylabel(\"# of students\")\n",
    "\n",
    "minutes_visited_by_account = group_data_by_account(passing_engagement, \"total_minutes_visited\")\n",
    "total_minutes_visited_by_account = list(minutes_visited_by_account.values())\n",
    "plt.hist(total_minutes_visited_by_account)\n",
    "plt.xlabel(\"Total Minutes Visited\")\n",
    "plt.ylabel(\"# of students\")\n",
    "\n",
    "total_days_visited_by_account = group_days_by_account(passing_engagement)\n",
    "days_visited = list(total_days_visited_by_account.values())\n",
    "plt.hist(days_visited)\n",
    "plt.xlabel(\"Total Days Visited\")\n",
    "plt.ylabel(\"# of students\")\n",
    "\n",
    "# NON PASSING\n",
    "lessons_completed_by_account = group_data_by_account(non_passing_engagement, \"lessons_completed\")\n",
    "total_lessons_completed = list(lessons_completed_by_account.values())\n",
    "plt.hist(total_lessons_completed)\n",
    "plt.xlabel(\"Lessons Completed\")\n",
    "plt.ylabel(\"# of students\")\n",
    "\n",
    "minutes_visited_by_account = group_data_by_account(non_passing_engagement, \"total_minutes_visited\")\n",
    "total_minutes_visited = list(minutes_visited_by_account.values())\n",
    "plt.hist(total_minutes_visited)\n",
    "plt.xlabel(\"Total Minutes Visited\")\n",
    "plt.ylabel(\"# of students\")\n",
    "\n",
    "total_days_visited_by_account = group_days_by_account(non_passing_engagement)\n",
    "days_visited = list(total_days_visited_by_account.values())\n",
    "plt.hist(days_visited)\n",
    "plt.xlabel(\"Total Days Visited\")\n",
    "plt.ylabel(\"# of students\")"
   ]
  },
  {
   "cell_type": "markdown",
   "metadata": {},
   "source": [
    "## Improving Plots and Sharing Findings"
   ]
  },
  {
   "cell_type": "code",
   "execution_count": 54,
   "metadata": {
    "collapsed": true
   },
   "outputs": [],
   "source": [
    "######################################\n",
    "#                 14                 #\n",
    "######################################\n",
    "\n",
    "## Make a more polished version of at least one of your visualizations\n",
    "## from earlier. Try importing the seaborn library to make the visualization\n",
    "## look better, adding axis labels and a title, and changing one or more\n",
    "## arguments to the hist() function."
   ]
  }
 ],
 "metadata": {
  "kernelspec": {
   "display_name": "Python 2",
   "language": "python",
   "name": "python2"
  },
  "language_info": {
   "codemirror_mode": {
    "name": "ipython",
    "version": 2
   },
   "file_extension": ".py",
   "mimetype": "text/x-python",
   "name": "python",
   "nbconvert_exporter": "python",
   "pygments_lexer": "ipython2",
   "version": "2.7.13"
  }
 },
 "nbformat": 4,
 "nbformat_minor": 1
}
