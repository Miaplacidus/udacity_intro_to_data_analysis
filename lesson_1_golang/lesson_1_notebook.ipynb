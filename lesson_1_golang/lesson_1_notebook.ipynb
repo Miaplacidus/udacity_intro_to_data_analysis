{
 "cells": [
  {
   "cell_type": "markdown",
   "metadata": {},
   "source": [
    "## Load Data From CSVs"
   ]
  },
  {
   "cell_type": "code",
   "execution_count": 13,
   "metadata": {},
   "outputs": [
    {
     "data": {
      "text/plain": [
       "[~/code/python/intro_to_data_analysis/lesson_1_golang/enrollments.csv]\n"
      ]
     },
     "execution_count": 13,
     "metadata": {},
     "output_type": "execute_result"
    }
   ],
   "source": [
    "import (\n",
    "    \"encoding/csv\"\n",
    "    \"fmt\"\n",
    "    \"io\"\n",
    "    \"log\"\n",
    "    \"os\"\n",
    "    \"path/filepath\"\n",
    "    \"strings\"\n",
    ")\n",
    "\n",
    "r := csv.NewReader(strings.NewReader(\"/code/python/intro_to_data_analysis/lesson_1_golang/enrollments.csv\"))\n",
    "\n",
    "\n",
    "for i := 0; i < 10; i++ {\n",
    "    record, err := r.Read()\n",
    "    if err == io.EOF {\n",
    "    break\n",
    "    }\n",
    "    if err != nil {\n",
    "        log.Fatal(err)\n",
    "    }\n",
    "\n",
    "    fmt.Println(record)\n",
    "    }"
   ]
  },
  {
   "cell_type": "code",
   "execution_count": null,
   "metadata": {
    "collapsed": true
   },
   "outputs": [],
   "source": []
  }
 ],
 "metadata": {
  "kernelspec": {
   "display_name": "Go",
   "language": "go",
   "name": "gophernotes"
  },
  "language_info": {
   "name": "go"
  }
 },
 "nbformat": 4,
 "nbformat_minor": 2
}
